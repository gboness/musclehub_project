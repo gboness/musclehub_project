{
 "cells": [
  {
   "cell_type": "markdown",
   "metadata": {},
   "source": [
    "# Capstone Project 1: MuscleHub AB Test"
   ]
  },
  {
   "cell_type": "code",
   "execution_count": 54,
   "metadata": {
    "collapsed": true
   },
   "outputs": [],
   "source": [
    "# Importing sql query from codecademy. each sql query will be passed like a function.\n",
    "from codecademySQL import sql_query"
   ]
  },
  {
   "cell_type": "code",
   "execution_count": 55,
   "metadata": {},
   "outputs": [
    {
     "data": {
      "text/html": [
       "<div>\n",
       "<style scoped>\n",
       "    .dataframe tbody tr th:only-of-type {\n",
       "        vertical-align: middle;\n",
       "    }\n",
       "\n",
       "    .dataframe tbody tr th {\n",
       "        vertical-align: top;\n",
       "    }\n",
       "\n",
       "    .dataframe thead th {\n",
       "        text-align: right;\n",
       "    }\n",
       "</style>\n",
       "<table border=\"1\" class=\"dataframe\">\n",
       "  <thead>\n",
       "    <tr style=\"text-align: right;\">\n",
       "      <th></th>\n",
       "      <th>index</th>\n",
       "      <th>first_name</th>\n",
       "      <th>last_name</th>\n",
       "      <th>email</th>\n",
       "      <th>gender</th>\n",
       "      <th>visit_date</th>\n",
       "    </tr>\n",
       "  </thead>\n",
       "  <tbody>\n",
       "    <tr>\n",
       "      <th>0</th>\n",
       "      <td>0</td>\n",
       "      <td>Karen</td>\n",
       "      <td>Manning</td>\n",
       "      <td>Karen.Manning@gmail.com</td>\n",
       "      <td>female</td>\n",
       "      <td>5-1-17</td>\n",
       "    </tr>\n",
       "    <tr>\n",
       "      <th>1</th>\n",
       "      <td>1</td>\n",
       "      <td>Annette</td>\n",
       "      <td>Boone</td>\n",
       "      <td>AB9982@gmail.com</td>\n",
       "      <td>female</td>\n",
       "      <td>5-1-17</td>\n",
       "    </tr>\n",
       "    <tr>\n",
       "      <th>2</th>\n",
       "      <td>2</td>\n",
       "      <td>Salvador</td>\n",
       "      <td>Merritt</td>\n",
       "      <td>SalvadorMerritt12@outlook.com</td>\n",
       "      <td>male</td>\n",
       "      <td>5-1-17</td>\n",
       "    </tr>\n",
       "    <tr>\n",
       "      <th>3</th>\n",
       "      <td>3</td>\n",
       "      <td>Martha</td>\n",
       "      <td>Maxwell</td>\n",
       "      <td>Martha.Maxwell@gmail.com</td>\n",
       "      <td>female</td>\n",
       "      <td>5-1-17</td>\n",
       "    </tr>\n",
       "    <tr>\n",
       "      <th>4</th>\n",
       "      <td>4</td>\n",
       "      <td>Andre</td>\n",
       "      <td>Mayer</td>\n",
       "      <td>AndreMayer90@gmail.com</td>\n",
       "      <td>male</td>\n",
       "      <td>5-1-17</td>\n",
       "    </tr>\n",
       "  </tbody>\n",
       "</table>\n",
       "</div>"
      ],
      "text/plain": [
       "   index first_name last_name                          email  gender  \\\n",
       "0      0      Karen   Manning        Karen.Manning@gmail.com  female   \n",
       "1      1    Annette     Boone               AB9982@gmail.com  female   \n",
       "2      2   Salvador   Merritt  SalvadorMerritt12@outlook.com    male   \n",
       "3      3     Martha   Maxwell       Martha.Maxwell@gmail.com  female   \n",
       "4      4      Andre     Mayer         AndreMayer90@gmail.com    male   \n",
       "\n",
       "  visit_date  \n",
       "0     5-1-17  \n",
       "1     5-1-17  \n",
       "2     5-1-17  \n",
       "3     5-1-17  \n",
       "4     5-1-17  "
      ]
     },
     "execution_count": 55,
     "metadata": {},
     "output_type": "execute_result"
    }
   ],
   "source": [
    "# Displaying some data using sql_query\n",
    "sql_query('''\n",
    "SELECT *\n",
    "FROM visits\n",
    "LIMIT 5\n",
    "''')"
   ]
  },
  {
   "cell_type": "code",
   "execution_count": 56,
   "metadata": {},
   "outputs": [],
   "source": [
    "# Here's where we save the data to a DataFrame\n",
    "df = sql_query('''\n",
    "SELECT *\n",
    "FROM applications\n",
    "LIMIT 5\n",
    "''')"
   ]
  },
  {
   "cell_type": "code",
   "execution_count": 57,
   "metadata": {
    "collapsed": true
   },
   "outputs": [
    {
     "data": {
      "text/html": [
       "<div>\n",
       "<style scoped>\n",
       "    .dataframe tbody tr th:only-of-type {\n",
       "        vertical-align: middle;\n",
       "    }\n",
       "\n",
       "    .dataframe tbody tr th {\n",
       "        vertical-align: top;\n",
       "    }\n",
       "\n",
       "    .dataframe thead th {\n",
       "        text-align: right;\n",
       "    }\n",
       "</style>\n",
       "<table border=\"1\" class=\"dataframe\">\n",
       "  <thead>\n",
       "    <tr style=\"text-align: right;\">\n",
       "      <th></th>\n",
       "      <th>index</th>\n",
       "      <th>first_name</th>\n",
       "      <th>last_name</th>\n",
       "      <th>email</th>\n",
       "      <th>gender</th>\n",
       "      <th>visit_date</th>\n",
       "    </tr>\n",
       "  </thead>\n",
       "  <tbody>\n",
       "    <tr>\n",
       "      <th>0</th>\n",
       "      <td>0</td>\n",
       "      <td>Karen</td>\n",
       "      <td>Manning</td>\n",
       "      <td>Karen.Manning@gmail.com</td>\n",
       "      <td>female</td>\n",
       "      <td>5-1-17</td>\n",
       "    </tr>\n",
       "    <tr>\n",
       "      <th>1</th>\n",
       "      <td>1</td>\n",
       "      <td>Annette</td>\n",
       "      <td>Boone</td>\n",
       "      <td>AB9982@gmail.com</td>\n",
       "      <td>female</td>\n",
       "      <td>5-1-17</td>\n",
       "    </tr>\n",
       "    <tr>\n",
       "      <th>2</th>\n",
       "      <td>2</td>\n",
       "      <td>Salvador</td>\n",
       "      <td>Merritt</td>\n",
       "      <td>SalvadorMerritt12@outlook.com</td>\n",
       "      <td>male</td>\n",
       "      <td>5-1-17</td>\n",
       "    </tr>\n",
       "    <tr>\n",
       "      <th>3</th>\n",
       "      <td>3</td>\n",
       "      <td>Martha</td>\n",
       "      <td>Maxwell</td>\n",
       "      <td>Martha.Maxwell@gmail.com</td>\n",
       "      <td>female</td>\n",
       "      <td>5-1-17</td>\n",
       "    </tr>\n",
       "    <tr>\n",
       "      <th>4</th>\n",
       "      <td>4</td>\n",
       "      <td>Andre</td>\n",
       "      <td>Mayer</td>\n",
       "      <td>AndreMayer90@gmail.com</td>\n",
       "      <td>male</td>\n",
       "      <td>5-1-17</td>\n",
       "    </tr>\n",
       "  </tbody>\n",
       "</table>\n",
       "</div>"
      ],
      "text/plain": [
       "   index first_name last_name                          email  gender  \\\n",
       "0      0      Karen   Manning        Karen.Manning@gmail.com  female   \n",
       "1      1    Annette     Boone               AB9982@gmail.com  female   \n",
       "2      2   Salvador   Merritt  SalvadorMerritt12@outlook.com    male   \n",
       "3      3     Martha   Maxwell       Martha.Maxwell@gmail.com  female   \n",
       "4      4      Andre     Mayer         AndreMayer90@gmail.com    male   \n",
       "\n",
       "  visit_date  \n",
       "0     5-1-17  \n",
       "1     5-1-17  \n",
       "2     5-1-17  \n",
       "3     5-1-17  \n",
       "4     5-1-17  "
      ]
     },
     "execution_count": 57,
     "metadata": {},
     "output_type": "execute_result"
    }
   ],
   "source": [
    "# Examine visits table here\n",
    "sql_query('''\n",
    "SELECT * \n",
    "FROM visits\n",
    "LIMIT 5;\n",
    "''')"
   ]
  },
  {
   "cell_type": "code",
   "execution_count": 58,
   "metadata": {
    "collapsed": true
   },
   "outputs": [
    {
     "data": {
      "text/html": [
       "<div>\n",
       "<style scoped>\n",
       "    .dataframe tbody tr th:only-of-type {\n",
       "        vertical-align: middle;\n",
       "    }\n",
       "\n",
       "    .dataframe tbody tr th {\n",
       "        vertical-align: top;\n",
       "    }\n",
       "\n",
       "    .dataframe thead th {\n",
       "        text-align: right;\n",
       "    }\n",
       "</style>\n",
       "<table border=\"1\" class=\"dataframe\">\n",
       "  <thead>\n",
       "    <tr style=\"text-align: right;\">\n",
       "      <th></th>\n",
       "      <th>index</th>\n",
       "      <th>first_name</th>\n",
       "      <th>last_name</th>\n",
       "      <th>email</th>\n",
       "      <th>gender</th>\n",
       "      <th>fitness_test_date</th>\n",
       "    </tr>\n",
       "  </thead>\n",
       "  <tbody>\n",
       "    <tr>\n",
       "      <th>0</th>\n",
       "      <td>0</td>\n",
       "      <td>Kim</td>\n",
       "      <td>Walter</td>\n",
       "      <td>KimWalter58@gmail.com</td>\n",
       "      <td>female</td>\n",
       "      <td>2017-07-03</td>\n",
       "    </tr>\n",
       "    <tr>\n",
       "      <th>1</th>\n",
       "      <td>1</td>\n",
       "      <td>Tom</td>\n",
       "      <td>Webster</td>\n",
       "      <td>TW3857@gmail.com</td>\n",
       "      <td>male</td>\n",
       "      <td>2017-07-02</td>\n",
       "    </tr>\n",
       "    <tr>\n",
       "      <th>2</th>\n",
       "      <td>2</td>\n",
       "      <td>Marcus</td>\n",
       "      <td>Bauer</td>\n",
       "      <td>Marcus.Bauer@gmail.com</td>\n",
       "      <td>male</td>\n",
       "      <td>2017-07-01</td>\n",
       "    </tr>\n",
       "    <tr>\n",
       "      <th>3</th>\n",
       "      <td>3</td>\n",
       "      <td>Roberta</td>\n",
       "      <td>Best</td>\n",
       "      <td>RB6305@hotmail.com</td>\n",
       "      <td>female</td>\n",
       "      <td>2017-07-02</td>\n",
       "    </tr>\n",
       "    <tr>\n",
       "      <th>4</th>\n",
       "      <td>4</td>\n",
       "      <td>Carrie</td>\n",
       "      <td>Francis</td>\n",
       "      <td>CF1896@hotmail.com</td>\n",
       "      <td>female</td>\n",
       "      <td>2017-07-05</td>\n",
       "    </tr>\n",
       "  </tbody>\n",
       "</table>\n",
       "</div>"
      ],
      "text/plain": [
       "   index first_name last_name                   email  gender  \\\n",
       "0      0        Kim    Walter   KimWalter58@gmail.com  female   \n",
       "1      1        Tom   Webster        TW3857@gmail.com    male   \n",
       "2      2     Marcus     Bauer  Marcus.Bauer@gmail.com    male   \n",
       "3      3    Roberta      Best      RB6305@hotmail.com  female   \n",
       "4      4     Carrie   Francis      CF1896@hotmail.com  female   \n",
       "\n",
       "  fitness_test_date  \n",
       "0        2017-07-03  \n",
       "1        2017-07-02  \n",
       "2        2017-07-01  \n",
       "3        2017-07-02  \n",
       "4        2017-07-05  "
      ]
     },
     "execution_count": 58,
     "metadata": {},
     "output_type": "execute_result"
    }
   ],
   "source": [
    "# Examine fitness_tests table here\n",
    "sql_query('''\n",
    "SELECT * \n",
    "FROM fitness_tests\n",
    "LIMIT 5;\n",
    "''')"
   ]
  },
  {
   "cell_type": "code",
   "execution_count": 59,
   "metadata": {
    "collapsed": true
   },
   "outputs": [
    {
     "data": {
      "text/html": [
       "<div>\n",
       "<style scoped>\n",
       "    .dataframe tbody tr th:only-of-type {\n",
       "        vertical-align: middle;\n",
       "    }\n",
       "\n",
       "    .dataframe tbody tr th {\n",
       "        vertical-align: top;\n",
       "    }\n",
       "\n",
       "    .dataframe thead th {\n",
       "        text-align: right;\n",
       "    }\n",
       "</style>\n",
       "<table border=\"1\" class=\"dataframe\">\n",
       "  <thead>\n",
       "    <tr style=\"text-align: right;\">\n",
       "      <th></th>\n",
       "      <th>index</th>\n",
       "      <th>first_name</th>\n",
       "      <th>last_name</th>\n",
       "      <th>email</th>\n",
       "      <th>gender</th>\n",
       "      <th>application_date</th>\n",
       "    </tr>\n",
       "  </thead>\n",
       "  <tbody>\n",
       "    <tr>\n",
       "      <th>0</th>\n",
       "      <td>0</td>\n",
       "      <td>Roy</td>\n",
       "      <td>Abbott</td>\n",
       "      <td>RoyAbbott32@gmail.com</td>\n",
       "      <td>male</td>\n",
       "      <td>2017-08-12</td>\n",
       "    </tr>\n",
       "    <tr>\n",
       "      <th>1</th>\n",
       "      <td>1</td>\n",
       "      <td>Agnes</td>\n",
       "      <td>Acevedo</td>\n",
       "      <td>AgnesAcevedo1@gmail.com</td>\n",
       "      <td>female</td>\n",
       "      <td>2017-09-29</td>\n",
       "    </tr>\n",
       "    <tr>\n",
       "      <th>2</th>\n",
       "      <td>2</td>\n",
       "      <td>Roberta</td>\n",
       "      <td>Acevedo</td>\n",
       "      <td>RA8063@gmail.com</td>\n",
       "      <td>female</td>\n",
       "      <td>2017-09-15</td>\n",
       "    </tr>\n",
       "    <tr>\n",
       "      <th>3</th>\n",
       "      <td>3</td>\n",
       "      <td>Darren</td>\n",
       "      <td>Acosta</td>\n",
       "      <td>DAcosta1996@hotmail.com</td>\n",
       "      <td>male</td>\n",
       "      <td>2017-07-26</td>\n",
       "    </tr>\n",
       "    <tr>\n",
       "      <th>4</th>\n",
       "      <td>4</td>\n",
       "      <td>Vernon</td>\n",
       "      <td>Acosta</td>\n",
       "      <td>VAcosta1975@gmail.com</td>\n",
       "      <td>male</td>\n",
       "      <td>2017-07-14</td>\n",
       "    </tr>\n",
       "  </tbody>\n",
       "</table>\n",
       "</div>"
      ],
      "text/plain": [
       "   index first_name last_name                    email  gender  \\\n",
       "0      0        Roy    Abbott    RoyAbbott32@gmail.com    male   \n",
       "1      1      Agnes   Acevedo  AgnesAcevedo1@gmail.com  female   \n",
       "2      2    Roberta   Acevedo         RA8063@gmail.com  female   \n",
       "3      3     Darren    Acosta  DAcosta1996@hotmail.com    male   \n",
       "4      4     Vernon    Acosta    VAcosta1975@gmail.com    male   \n",
       "\n",
       "  application_date  \n",
       "0       2017-08-12  \n",
       "1       2017-09-29  \n",
       "2       2017-09-15  \n",
       "3       2017-07-26  \n",
       "4       2017-07-14  "
      ]
     },
     "execution_count": 59,
     "metadata": {},
     "output_type": "execute_result"
    }
   ],
   "source": [
    "# Examine applications here\n",
    "sql_query('''\n",
    "SELECT *\n",
    "FROM applications\n",
    "LIMIT 5;\n",
    "''')"
   ]
  },
  {
   "cell_type": "code",
   "execution_count": 60,
   "metadata": {
    "collapsed": true
   },
   "outputs": [
    {
     "data": {
      "text/html": [
       "<div>\n",
       "<style scoped>\n",
       "    .dataframe tbody tr th:only-of-type {\n",
       "        vertical-align: middle;\n",
       "    }\n",
       "\n",
       "    .dataframe tbody tr th {\n",
       "        vertical-align: top;\n",
       "    }\n",
       "\n",
       "    .dataframe thead th {\n",
       "        text-align: right;\n",
       "    }\n",
       "</style>\n",
       "<table border=\"1\" class=\"dataframe\">\n",
       "  <thead>\n",
       "    <tr style=\"text-align: right;\">\n",
       "      <th></th>\n",
       "      <th>index</th>\n",
       "      <th>first_name</th>\n",
       "      <th>last_name</th>\n",
       "      <th>email</th>\n",
       "      <th>gender</th>\n",
       "      <th>purchase_date</th>\n",
       "    </tr>\n",
       "  </thead>\n",
       "  <tbody>\n",
       "    <tr>\n",
       "      <th>0</th>\n",
       "      <td>0</td>\n",
       "      <td>Roy</td>\n",
       "      <td>Abbott</td>\n",
       "      <td>RoyAbbott32@gmail.com</td>\n",
       "      <td>male</td>\n",
       "      <td>2017-08-18</td>\n",
       "    </tr>\n",
       "    <tr>\n",
       "      <th>1</th>\n",
       "      <td>1</td>\n",
       "      <td>Roberta</td>\n",
       "      <td>Acevedo</td>\n",
       "      <td>RA8063@gmail.com</td>\n",
       "      <td>female</td>\n",
       "      <td>2017-09-16</td>\n",
       "    </tr>\n",
       "    <tr>\n",
       "      <th>2</th>\n",
       "      <td>2</td>\n",
       "      <td>Vernon</td>\n",
       "      <td>Acosta</td>\n",
       "      <td>VAcosta1975@gmail.com</td>\n",
       "      <td>male</td>\n",
       "      <td>2017-07-20</td>\n",
       "    </tr>\n",
       "    <tr>\n",
       "      <th>3</th>\n",
       "      <td>3</td>\n",
       "      <td>Darren</td>\n",
       "      <td>Acosta</td>\n",
       "      <td>DAcosta1996@hotmail.com</td>\n",
       "      <td>male</td>\n",
       "      <td>2017-07-27</td>\n",
       "    </tr>\n",
       "    <tr>\n",
       "      <th>4</th>\n",
       "      <td>4</td>\n",
       "      <td>Dawn</td>\n",
       "      <td>Adkins</td>\n",
       "      <td>Dawn.Adkins@gmail.com</td>\n",
       "      <td>female</td>\n",
       "      <td>2017-08-24</td>\n",
       "    </tr>\n",
       "  </tbody>\n",
       "</table>\n",
       "</div>"
      ],
      "text/plain": [
       "   index first_name last_name                    email  gender purchase_date\n",
       "0      0        Roy    Abbott    RoyAbbott32@gmail.com    male    2017-08-18\n",
       "1      1    Roberta   Acevedo         RA8063@gmail.com  female    2017-09-16\n",
       "2      2     Vernon    Acosta    VAcosta1975@gmail.com    male    2017-07-20\n",
       "3      3     Darren    Acosta  DAcosta1996@hotmail.com    male    2017-07-27\n",
       "4      4       Dawn    Adkins    Dawn.Adkins@gmail.com  female    2017-08-24"
      ]
     },
     "execution_count": 60,
     "metadata": {},
     "output_type": "execute_result"
    }
   ],
   "source": [
    "# Examine purchases table here\n",
    "sql_query('''\n",
    "SELECT *\n",
    "FROM purchases\n",
    "LIMIT 5;\n",
    "''')"
   ]
  },
  {
   "cell_type": "code",
   "execution_count": 61,
   "metadata": {},
   "outputs": [
    {
     "data": {
      "text/html": [
       "<div>\n",
       "<style scoped>\n",
       "    .dataframe tbody tr th:only-of-type {\n",
       "        vertical-align: middle;\n",
       "    }\n",
       "\n",
       "    .dataframe tbody tr th {\n",
       "        vertical-align: top;\n",
       "    }\n",
       "\n",
       "    .dataframe thead th {\n",
       "        text-align: right;\n",
       "    }\n",
       "</style>\n",
       "<table border=\"1\" class=\"dataframe\">\n",
       "  <thead>\n",
       "    <tr style=\"text-align: right;\">\n",
       "      <th></th>\n",
       "      <th>first_name</th>\n",
       "      <th>last_name</th>\n",
       "      <th>visit_date</th>\n",
       "      <th>email</th>\n",
       "      <th>fitness_test_date</th>\n",
       "      <th>application_date</th>\n",
       "      <th>purchase_date</th>\n",
       "    </tr>\n",
       "  </thead>\n",
       "  <tbody>\n",
       "    <tr>\n",
       "      <th>0</th>\n",
       "      <td>Kim</td>\n",
       "      <td>Walter</td>\n",
       "      <td>7-1-17</td>\n",
       "      <td>KimWalter58@gmail.com</td>\n",
       "      <td>2017-07-03</td>\n",
       "      <td>None</td>\n",
       "      <td>None</td>\n",
       "    </tr>\n",
       "    <tr>\n",
       "      <th>1</th>\n",
       "      <td>Tom</td>\n",
       "      <td>Webster</td>\n",
       "      <td>7-1-17</td>\n",
       "      <td>TW3857@gmail.com</td>\n",
       "      <td>2017-07-02</td>\n",
       "      <td>None</td>\n",
       "      <td>None</td>\n",
       "    </tr>\n",
       "    <tr>\n",
       "      <th>2</th>\n",
       "      <td>Edward</td>\n",
       "      <td>Bowen</td>\n",
       "      <td>7-1-17</td>\n",
       "      <td>Edward.Bowen@gmail.com</td>\n",
       "      <td>None</td>\n",
       "      <td>2017-07-04</td>\n",
       "      <td>2017-07-04</td>\n",
       "    </tr>\n",
       "    <tr>\n",
       "      <th>3</th>\n",
       "      <td>Marcus</td>\n",
       "      <td>Bauer</td>\n",
       "      <td>7-1-17</td>\n",
       "      <td>Marcus.Bauer@gmail.com</td>\n",
       "      <td>2017-07-01</td>\n",
       "      <td>2017-07-03</td>\n",
       "      <td>2017-07-05</td>\n",
       "    </tr>\n",
       "    <tr>\n",
       "      <th>4</th>\n",
       "      <td>Roberta</td>\n",
       "      <td>Best</td>\n",
       "      <td>7-1-17</td>\n",
       "      <td>RB6305@hotmail.com</td>\n",
       "      <td>2017-07-02</td>\n",
       "      <td>None</td>\n",
       "      <td>None</td>\n",
       "    </tr>\n",
       "    <tr>\n",
       "      <th>...</th>\n",
       "      <td>...</td>\n",
       "      <td>...</td>\n",
       "      <td>...</td>\n",
       "      <td>...</td>\n",
       "      <td>...</td>\n",
       "      <td>...</td>\n",
       "      <td>...</td>\n",
       "    </tr>\n",
       "    <tr>\n",
       "      <th>4999</th>\n",
       "      <td>Rachel</td>\n",
       "      <td>Hensley</td>\n",
       "      <td>9-9-17</td>\n",
       "      <td>RachelHensley38@gmail.com</td>\n",
       "      <td>None</td>\n",
       "      <td>None</td>\n",
       "      <td>None</td>\n",
       "    </tr>\n",
       "    <tr>\n",
       "      <th>5000</th>\n",
       "      <td>Leon</td>\n",
       "      <td>Harmon</td>\n",
       "      <td>9-9-17</td>\n",
       "      <td>Leon.Harmon@gmail.com</td>\n",
       "      <td>2017-09-15</td>\n",
       "      <td>None</td>\n",
       "      <td>None</td>\n",
       "    </tr>\n",
       "    <tr>\n",
       "      <th>5001</th>\n",
       "      <td>Andy</td>\n",
       "      <td>Pratt</td>\n",
       "      <td>9-9-17</td>\n",
       "      <td>AndyPratt27@gmail.com</td>\n",
       "      <td>2017-09-15</td>\n",
       "      <td>None</td>\n",
       "      <td>None</td>\n",
       "    </tr>\n",
       "    <tr>\n",
       "      <th>5002</th>\n",
       "      <td>Ruben</td>\n",
       "      <td>Nielsen</td>\n",
       "      <td>9-9-17</td>\n",
       "      <td>RubenNielsen93@hotmail.com</td>\n",
       "      <td>None</td>\n",
       "      <td>2017-09-13</td>\n",
       "      <td>None</td>\n",
       "    </tr>\n",
       "    <tr>\n",
       "      <th>5003</th>\n",
       "      <td>Charles</td>\n",
       "      <td>Carver</td>\n",
       "      <td>9-9-17</td>\n",
       "      <td>CC2490@gmail.com</td>\n",
       "      <td>2017-09-12</td>\n",
       "      <td>None</td>\n",
       "      <td>None</td>\n",
       "    </tr>\n",
       "  </tbody>\n",
       "</table>\n",
       "<p>5004 rows × 7 columns</p>\n",
       "</div>"
      ],
      "text/plain": [
       "     first_name last_name visit_date                       email  \\\n",
       "0           Kim    Walter     7-1-17       KimWalter58@gmail.com   \n",
       "1           Tom   Webster     7-1-17            TW3857@gmail.com   \n",
       "2        Edward     Bowen     7-1-17      Edward.Bowen@gmail.com   \n",
       "3        Marcus     Bauer     7-1-17      Marcus.Bauer@gmail.com   \n",
       "4       Roberta      Best     7-1-17          RB6305@hotmail.com   \n",
       "...         ...       ...        ...                         ...   \n",
       "4999     Rachel   Hensley     9-9-17   RachelHensley38@gmail.com   \n",
       "5000       Leon    Harmon     9-9-17       Leon.Harmon@gmail.com   \n",
       "5001       Andy     Pratt     9-9-17       AndyPratt27@gmail.com   \n",
       "5002      Ruben   Nielsen     9-9-17  RubenNielsen93@hotmail.com   \n",
       "5003    Charles    Carver     9-9-17            CC2490@gmail.com   \n",
       "\n",
       "     fitness_test_date application_date purchase_date  \n",
       "0           2017-07-03             None          None  \n",
       "1           2017-07-02             None          None  \n",
       "2                 None       2017-07-04    2017-07-04  \n",
       "3           2017-07-01       2017-07-03    2017-07-05  \n",
       "4           2017-07-02             None          None  \n",
       "...                ...              ...           ...  \n",
       "4999              None             None          None  \n",
       "5000        2017-09-15             None          None  \n",
       "5001        2017-09-15             None          None  \n",
       "5002              None       2017-09-13          None  \n",
       "5003        2017-09-12             None          None  \n",
       "\n",
       "[5004 rows x 7 columns]"
      ]
     },
     "execution_count": 61,
     "metadata": {},
     "output_type": "execute_result"
    }
   ],
   "source": [
    "# Here im joining data from all tables where visit_dates is on or after 7-1-17\n",
    "df = sql_query('''\n",
    "SELECT visits.first_name,\n",
    "        visits.last_name,\n",
    "        visits.visit_date,\n",
    "        visits.email,\n",
    "        fitness_tests.fitness_test_date,\n",
    "        applications.application_date,\n",
    "        purchases.purchase_date\n",
    "FROM visits\n",
    "LEFT JOIN fitness_tests\n",
    "    ON fitness_tests.first_name = visits.first_name\n",
    "    AND fitness_tests.last_name = visits.last_name\n",
    "    AND fitness_tests.email = visits.email\n",
    "LEFT JOIN applications\n",
    "    ON applications.first_name = visits.first_name\n",
    "    AND applications.last_name = visits.last_name\n",
    "    AND applications.email = visits.email\n",
    "LEFT JOIN purchases\n",
    "    ON purchases.first_name = visits.first_name\n",
    "    AND purchases.last_name = visits.last_name\n",
    "    AND purchases.email = visits.email\n",
    "WHERE visits.visit_date >= '7-1-17';\n",
    "''')\n",
    "df"
   ]
  },
  {
   "cell_type": "code",
   "execution_count": 62,
   "metadata": {
    "collapsed": true
   },
   "outputs": [],
   "source": [
    "import pandas as pd\n",
    "from matplotlib import pyplot as plt"
   ]
  },
  {
   "cell_type": "code",
   "execution_count": 63,
   "metadata": {},
   "outputs": [],
   "source": [
    "# Adding column to the table to create an a/b test group\n",
    "df['ab_test_group'] = df.fitness_test_date.apply(lambda x:\n",
    "                                                'A' if pd.notnull(x) else 'B')"
   ]
  },
  {
   "cell_type": "code",
   "execution_count": 64,
   "metadata": {},
   "outputs": [
    {
     "data": {
      "text/html": [
       "<div>\n",
       "<style scoped>\n",
       "    .dataframe tbody tr th:only-of-type {\n",
       "        vertical-align: middle;\n",
       "    }\n",
       "\n",
       "    .dataframe tbody tr th {\n",
       "        vertical-align: top;\n",
       "    }\n",
       "\n",
       "    .dataframe thead th {\n",
       "        text-align: right;\n",
       "    }\n",
       "</style>\n",
       "<table border=\"1\" class=\"dataframe\">\n",
       "  <thead>\n",
       "    <tr style=\"text-align: right;\">\n",
       "      <th></th>\n",
       "      <th>ab_test_group</th>\n",
       "      <th>first_name</th>\n",
       "    </tr>\n",
       "  </thead>\n",
       "  <tbody>\n",
       "    <tr>\n",
       "      <th>0</th>\n",
       "      <td>A</td>\n",
       "      <td>2504</td>\n",
       "    </tr>\n",
       "    <tr>\n",
       "      <th>1</th>\n",
       "      <td>B</td>\n",
       "      <td>2500</td>\n",
       "    </tr>\n",
       "  </tbody>\n",
       "</table>\n",
       "</div>"
      ],
      "text/plain": [
       "  ab_test_group  first_name\n",
       "0             A        2504\n",
       "1             B        2500"
      ]
     },
     "execution_count": 64,
     "metadata": {},
     "output_type": "execute_result"
    }
   ],
   "source": [
    "# getting a count to check if the groups a and b were split evenly\n",
    "ab_counts = df.groupby('ab_test_group').first_name.count().reset_index()\n",
    "ab_counts"
   ]
  },
  {
   "cell_type": "code",
   "execution_count": 65,
   "metadata": {},
   "outputs": [
    {
     "data": {
      "image/png": "[encoded data removed]",
      "text/plain": [
       "<Figure size 432x288 with 1 Axes>"
      ]
     },
     "metadata": {},
     "output_type": "display_data"
    },
    {
     "data": {
      "text/plain": [
       "<Figure size 432x288 with 0 Axes>"
      ]
     },
     "metadata": {},
     "output_type": "display_data"
    }
   ],
   "source": [
    "# Creating a pie chart to show the number of people who were picked for the fitness test (test group A)\n",
    "\n",
    "plt.pie(ab_counts.first_name.values, autopct = '%0.2f%%')\n",
    "plt.axis('equal')\n",
    "plt.legend(ab_counts.ab_test_group)\n",
    "plt.show()\n",
    "plt.savefig('ab_test_pie_chart.png')"
   ]
  },
  {
   "cell_type": "code",
   "execution_count": 66,
   "metadata": {
    "collapsed": true
   },
   "outputs": [],
   "source": [
    "# Creating a new column to see what people filled out an application \n",
    "df['is_application'] = df.application_date.apply(lambda x:\n",
    "                                                'Application' if pd.notnull(x) else 'No Application')"
   ]
  },
  {
   "cell_type": "code",
   "execution_count": 67,
   "metadata": {},
   "outputs": [],
   "source": [
    "# Counting how many people from Group A and Group B either do or don't pick up an application\n",
    "\n",
    "app_counts = df.groupby(['ab_test_group', 'is_application']).first_name.count().reset_index()"
   ]
  },
  {
   "cell_type": "code",
   "execution_count": 68,
   "metadata": {},
   "outputs": [],
   "source": [
    "# Pivoting app_counts so calculating the percent of people in each group who complete an application will be easier \n",
    "app_pivot = app_counts.pivot(index = 'ab_test_group',\n",
    "                             columns = 'is_application',\n",
    "                             values = 'first_name').reset_index()"
   ]
  },
  {
   "cell_type": "code",
   "execution_count": 69,
   "metadata": {
    "collapsed": true
   },
   "outputs": [],
   "source": [
    "# Calculating the sum of applications and non applications\n",
    "\n",
    "app_pivot['Total'] = app_pivot['Application'] + app_pivot['No Application']"
   ]
  },
  {
   "cell_type": "code",
   "execution_count": 70,
   "metadata": {},
   "outputs": [
    {
     "data": {
      "text/html": [
       "<div>\n",
       "<style scoped>\n",
       "    .dataframe tbody tr th:only-of-type {\n",
       "        vertical-align: middle;\n",
       "    }\n",
       "\n",
       "    .dataframe tbody tr th {\n",
       "        vertical-align: top;\n",
       "    }\n",
       "\n",
       "    .dataframe thead th {\n",
       "        text-align: right;\n",
       "    }\n",
       "</style>\n",
       "<table border=\"1\" class=\"dataframe\">\n",
       "  <thead>\n",
       "    <tr style=\"text-align: right;\">\n",
       "      <th>is_application</th>\n",
       "      <th>ab_test_group</th>\n",
       "      <th>Application</th>\n",
       "      <th>No Application</th>\n",
       "      <th>Total</th>\n",
       "      <th>Percent with Application</th>\n",
       "    </tr>\n",
       "  </thead>\n",
       "  <tbody>\n",
       "    <tr>\n",
       "      <th>0</th>\n",
       "      <td>A</td>\n",
       "      <td>250</td>\n",
       "      <td>2254</td>\n",
       "      <td>2504</td>\n",
       "      <td>0.09984</td>\n",
       "    </tr>\n",
       "    <tr>\n",
       "      <th>1</th>\n",
       "      <td>B</td>\n",
       "      <td>325</td>\n",
       "      <td>2175</td>\n",
       "      <td>2500</td>\n",
       "      <td>0.13000</td>\n",
       "    </tr>\n",
       "  </tbody>\n",
       "</table>\n",
       "</div>"
      ],
      "text/plain": [
       "is_application ab_test_group  Application  No Application  Total  \\\n",
       "0                          A          250            2254   2504   \n",
       "1                          B          325            2175   2500   \n",
       "\n",
       "is_application  Percent with Application  \n",
       "0                                0.09984  \n",
       "1                                0.13000  "
      ]
     },
     "execution_count": 70,
     "metadata": {},
     "output_type": "execute_result"
    }
   ],
   "source": [
    "# calculating the percent of people who filled out applications and assigning it to a column\n",
    "\n",
    "app_pivot['Percent with Application'] = app_pivot['Application'] / app_pivot['Total']\n",
    "app_pivot"
   ]
  },
  {
   "cell_type": "code",
   "execution_count": 71,
   "metadata": {},
   "outputs": [
    {
     "name": "stdout",
     "output_type": "stream",
     "text": [
      "The null hypothesis can be rejected\n"
     ]
    }
   ],
   "source": [
    "# Using a hypothesis test to check if the difference between group b and group a is statiscially significant\n",
    "\n",
    "from scipy.stats import chi2_contingency\n",
    "\n",
    "contingency = [[250, 2254], [325, 2175]]\n",
    "stat, pval, dof, expected = chi2_contingency(contingency)\n",
    "\n",
    "if pval < 0.05:\n",
    "    print('The null hypothesis can be rejected')\n",
    "else:\n",
    "    print('The null hypothesis can not be rejected')"
   ]
  },
  {
   "cell_type": "markdown",
   "metadata": {},
   "source": [
    "## Step 4: Who purchases a membership?"
   ]
  },
  {
   "cell_type": "markdown",
   "metadata": {},
   "source": [
    "Of those who picked up an application, how many purchased a membership?\n",
    "\n",
    "Let's begin by adding a column to `df` called `is_member` which is `Member` if `purchase_date` is not `None`, and `Not Member` otherwise."
   ]
  },
  {
   "cell_type": "code",
   "execution_count": 72,
   "metadata": {
    "collapsed": true
   },
   "outputs": [
    {
     "data": {
      "text/html": [
       "<div>\n",
       "<style scoped>\n",
       "    .dataframe tbody tr th:only-of-type {\n",
       "        vertical-align: middle;\n",
       "    }\n",
       "\n",
       "    .dataframe tbody tr th {\n",
       "        vertical-align: top;\n",
       "    }\n",
       "\n",
       "    .dataframe thead th {\n",
       "        text-align: right;\n",
       "    }\n",
       "</style>\n",
       "<table border=\"1\" class=\"dataframe\">\n",
       "  <thead>\n",
       "    <tr style=\"text-align: right;\">\n",
       "      <th></th>\n",
       "      <th>first_name</th>\n",
       "      <th>last_name</th>\n",
       "      <th>visit_date</th>\n",
       "      <th>email</th>\n",
       "      <th>fitness_test_date</th>\n",
       "      <th>application_date</th>\n",
       "      <th>purchase_date</th>\n",
       "      <th>ab_test_group</th>\n",
       "      <th>is_application</th>\n",
       "      <th>is_member</th>\n",
       "    </tr>\n",
       "  </thead>\n",
       "  <tbody>\n",
       "    <tr>\n",
       "      <th>0</th>\n",
       "      <td>Kim</td>\n",
       "      <td>Walter</td>\n",
       "      <td>7-1-17</td>\n",
       "      <td>KimWalter58@gmail.com</td>\n",
       "      <td>2017-07-03</td>\n",
       "      <td>None</td>\n",
       "      <td>None</td>\n",
       "      <td>A</td>\n",
       "      <td>No Application</td>\n",
       "      <td>Not Member</td>\n",
       "    </tr>\n",
       "    <tr>\n",
       "      <th>1</th>\n",
       "      <td>Tom</td>\n",
       "      <td>Webster</td>\n",
       "      <td>7-1-17</td>\n",
       "      <td>TW3857@gmail.com</td>\n",
       "      <td>2017-07-02</td>\n",
       "      <td>None</td>\n",
       "      <td>None</td>\n",
       "      <td>A</td>\n",
       "      <td>No Application</td>\n",
       "      <td>Not Member</td>\n",
       "    </tr>\n",
       "    <tr>\n",
       "      <th>2</th>\n",
       "      <td>Edward</td>\n",
       "      <td>Bowen</td>\n",
       "      <td>7-1-17</td>\n",
       "      <td>Edward.Bowen@gmail.com</td>\n",
       "      <td>None</td>\n",
       "      <td>2017-07-04</td>\n",
       "      <td>2017-07-04</td>\n",
       "      <td>B</td>\n",
       "      <td>Application</td>\n",
       "      <td>Member</td>\n",
       "    </tr>\n",
       "    <tr>\n",
       "      <th>3</th>\n",
       "      <td>Marcus</td>\n",
       "      <td>Bauer</td>\n",
       "      <td>7-1-17</td>\n",
       "      <td>Marcus.Bauer@gmail.com</td>\n",
       "      <td>2017-07-01</td>\n",
       "      <td>2017-07-03</td>\n",
       "      <td>2017-07-05</td>\n",
       "      <td>A</td>\n",
       "      <td>Application</td>\n",
       "      <td>Member</td>\n",
       "    </tr>\n",
       "    <tr>\n",
       "      <th>4</th>\n",
       "      <td>Roberta</td>\n",
       "      <td>Best</td>\n",
       "      <td>7-1-17</td>\n",
       "      <td>RB6305@hotmail.com</td>\n",
       "      <td>2017-07-02</td>\n",
       "      <td>None</td>\n",
       "      <td>None</td>\n",
       "      <td>A</td>\n",
       "      <td>No Application</td>\n",
       "      <td>Not Member</td>\n",
       "    </tr>\n",
       "  </tbody>\n",
       "</table>\n",
       "</div>"
      ],
      "text/plain": [
       "  first_name last_name visit_date                   email fitness_test_date  \\\n",
       "0        Kim    Walter     7-1-17   KimWalter58@gmail.com        2017-07-03   \n",
       "1        Tom   Webster     7-1-17        TW3857@gmail.com        2017-07-02   \n",
       "2     Edward     Bowen     7-1-17  Edward.Bowen@gmail.com              None   \n",
       "3     Marcus     Bauer     7-1-17  Marcus.Bauer@gmail.com        2017-07-01   \n",
       "4    Roberta      Best     7-1-17      RB6305@hotmail.com        2017-07-02   \n",
       "\n",
       "  application_date purchase_date ab_test_group  is_application   is_member  \n",
       "0             None          None             A  No Application  Not Member  \n",
       "1             None          None             A  No Application  Not Member  \n",
       "2       2017-07-04    2017-07-04             B     Application      Member  \n",
       "3       2017-07-03    2017-07-05             A     Application      Member  \n",
       "4             None          None             A  No Application  Not Member  "
      ]
     },
     "execution_count": 72,
     "metadata": {},
     "output_type": "execute_result"
    }
   ],
   "source": [
    "# Adding a column for is member or not\n",
    "df['is_member'] = df.purchase_date.apply(lambda x:\n",
    "                          'Member' if pd.notnull(x) else 'Not Member')\n",
    "df.head()"
   ]
  },
  {
   "cell_type": "markdown",
   "metadata": {},
   "source": [
    "Now, let's create a DataFrame called `just_apps` the contains only people who picked up an application."
   ]
  },
  {
   "cell_type": "code",
   "execution_count": 81,
   "metadata": {
    "collapsed": true
   },
   "outputs": [
    {
     "data": {
      "text/html": [
       "<div>\n",
       "<style scoped>\n",
       "    .dataframe tbody tr th:only-of-type {\n",
       "        vertical-align: middle;\n",
       "    }\n",
       "\n",
       "    .dataframe tbody tr th {\n",
       "        vertical-align: top;\n",
       "    }\n",
       "\n",
       "    .dataframe thead th {\n",
       "        text-align: right;\n",
       "    }\n",
       "</style>\n",
       "<table border=\"1\" class=\"dataframe\">\n",
       "  <thead>\n",
       "    <tr style=\"text-align: right;\">\n",
       "      <th></th>\n",
       "      <th>first_name</th>\n",
       "      <th>last_name</th>\n",
       "      <th>visit_date</th>\n",
       "      <th>email</th>\n",
       "      <th>fitness_test_date</th>\n",
       "      <th>application_date</th>\n",
       "      <th>purchase_date</th>\n",
       "      <th>ab_test_group</th>\n",
       "      <th>is_application</th>\n",
       "      <th>is_member</th>\n",
       "    </tr>\n",
       "  </thead>\n",
       "  <tbody>\n",
       "    <tr>\n",
       "      <th>2</th>\n",
       "      <td>Edward</td>\n",
       "      <td>Bowen</td>\n",
       "      <td>7-1-17</td>\n",
       "      <td>Edward.Bowen@gmail.com</td>\n",
       "      <td>None</td>\n",
       "      <td>2017-07-04</td>\n",
       "      <td>2017-07-04</td>\n",
       "      <td>B</td>\n",
       "      <td>Application</td>\n",
       "      <td>Member</td>\n",
       "    </tr>\n",
       "    <tr>\n",
       "      <th>3</th>\n",
       "      <td>Marcus</td>\n",
       "      <td>Bauer</td>\n",
       "      <td>7-1-17</td>\n",
       "      <td>Marcus.Bauer@gmail.com</td>\n",
       "      <td>2017-07-01</td>\n",
       "      <td>2017-07-03</td>\n",
       "      <td>2017-07-05</td>\n",
       "      <td>A</td>\n",
       "      <td>Application</td>\n",
       "      <td>Member</td>\n",
       "    </tr>\n",
       "    <tr>\n",
       "      <th>9</th>\n",
       "      <td>Salvador</td>\n",
       "      <td>Cardenas</td>\n",
       "      <td>7-1-17</td>\n",
       "      <td>SCardenas1980@gmail.com</td>\n",
       "      <td>2017-07-07</td>\n",
       "      <td>2017-07-06</td>\n",
       "      <td>None</td>\n",
       "      <td>A</td>\n",
       "      <td>Application</td>\n",
       "      <td>Not Member</td>\n",
       "    </tr>\n",
       "    <tr>\n",
       "      <th>11</th>\n",
       "      <td>Valerie</td>\n",
       "      <td>Munoz</td>\n",
       "      <td>7-1-17</td>\n",
       "      <td>VMunoz1998@gmail.com</td>\n",
       "      <td>2017-07-03</td>\n",
       "      <td>2017-07-05</td>\n",
       "      <td>2017-07-06</td>\n",
       "      <td>A</td>\n",
       "      <td>Application</td>\n",
       "      <td>Member</td>\n",
       "    </tr>\n",
       "    <tr>\n",
       "      <th>35</th>\n",
       "      <td>Michael</td>\n",
       "      <td>Burks</td>\n",
       "      <td>7-1-17</td>\n",
       "      <td>MB9820@gmail.com</td>\n",
       "      <td>None</td>\n",
       "      <td>2017-07-07</td>\n",
       "      <td>2017-07-13</td>\n",
       "      <td>B</td>\n",
       "      <td>Application</td>\n",
       "      <td>Member</td>\n",
       "    </tr>\n",
       "  </tbody>\n",
       "</table>\n",
       "</div>"
      ],
      "text/plain": [
       "   first_name last_name visit_date                    email fitness_test_date  \\\n",
       "2      Edward     Bowen     7-1-17   Edward.Bowen@gmail.com              None   \n",
       "3      Marcus     Bauer     7-1-17   Marcus.Bauer@gmail.com        2017-07-01   \n",
       "9    Salvador  Cardenas     7-1-17  SCardenas1980@gmail.com        2017-07-07   \n",
       "11    Valerie     Munoz     7-1-17     VMunoz1998@gmail.com        2017-07-03   \n",
       "35    Michael     Burks     7-1-17         MB9820@gmail.com              None   \n",
       "\n",
       "   application_date purchase_date ab_test_group is_application   is_member  \n",
       "2        2017-07-04    2017-07-04             B    Application      Member  \n",
       "3        2017-07-03    2017-07-05             A    Application      Member  \n",
       "9        2017-07-06          None             A    Application  Not Member  \n",
       "11       2017-07-05    2017-07-06             A    Application      Member  \n",
       "35       2017-07-07    2017-07-13             B    Application      Member  "
      ]
     },
     "execution_count": 81,
     "metadata": {},
     "output_type": "execute_result"
    }
   ],
   "source": [
    "# Creating a new dataframe for only the people who filled out applications\n",
    "\n",
    "just_apps = df[df.is_application == 'Application']\n",
    "just_apps.head()"
   ]
  },
  {
   "cell_type": "markdown",
   "metadata": {},
   "source": [
    "Great! Now, let's do a `groupby` to find out how many people in `just_apps` are and aren't members from each group.  Follow the same process that we did in Step 4, including pivoting the data.  You should end up with a DataFrame that looks like this:\n",
    "\n",
    "|is_member|ab_test_group|Member|Not Member|Total|Percent Purchase|\n",
    "|-|-|-|-|-|-|\n",
    "|0|A|?|?|?|?|\n",
    "|1|B|?|?|?|?|\n",
    "\n",
    "Save your final DataFrame as `member_pivot`."
   ]
  },
  {
   "cell_type": "code",
   "execution_count": 74,
   "metadata": {},
   "outputs": [
    {
     "data": {
      "text/html": [
       "<div>\n",
       "<style scoped>\n",
       "    .dataframe tbody tr th:only-of-type {\n",
       "        vertical-align: middle;\n",
       "    }\n",
       "\n",
       "    .dataframe tbody tr th {\n",
       "        vertical-align: top;\n",
       "    }\n",
       "\n",
       "    .dataframe thead th {\n",
       "        text-align: right;\n",
       "    }\n",
       "</style>\n",
       "<table border=\"1\" class=\"dataframe\">\n",
       "  <thead>\n",
       "    <tr style=\"text-align: right;\">\n",
       "      <th>is_member</th>\n",
       "      <th>ab_test_group</th>\n",
       "      <th>Member</th>\n",
       "      <th>Not Member</th>\n",
       "      <th>Total</th>\n",
       "      <th>Percent Purchase</th>\n",
       "    </tr>\n",
       "  </thead>\n",
       "  <tbody>\n",
       "    <tr>\n",
       "      <th>0</th>\n",
       "      <td>A</td>\n",
       "      <td>200</td>\n",
       "      <td>50</td>\n",
       "      <td>250</td>\n",
       "      <td>0.800000</td>\n",
       "    </tr>\n",
       "    <tr>\n",
       "      <th>1</th>\n",
       "      <td>B</td>\n",
       "      <td>250</td>\n",
       "      <td>75</td>\n",
       "      <td>325</td>\n",
       "      <td>0.769231</td>\n",
       "    </tr>\n",
       "  </tbody>\n",
       "</table>\n",
       "</div>"
      ],
      "text/plain": [
       "is_member ab_test_group  Member  Not Member  Total  Percent Purchase\n",
       "0                     A     200          50    250          0.800000\n",
       "1                     B     250          75    325          0.769231"
      ]
     },
     "execution_count": 74,
     "metadata": {},
     "output_type": "execute_result"
    }
   ],
   "source": [
    "mem_group = just_apps.groupby(['ab_test_group', 'is_member']).first_name.count().reset_index()\n",
    "\n",
    "#pivoting mem_group table\n",
    "mem_pivot = mem_group.pivot(index = 'ab_test_group',\n",
    "                             columns = 'is_member',\n",
    "                             values = 'first_name').reset_index()\n",
    "\n",
    "#creating column for total people given the tests\n",
    "mem_pivot['Total'] = mem_pivot['Member'] + mem_pivot['Not Member']\n",
    "\n",
    "#creating column for percent of people who purchased a membership \n",
    "mem_pivot['Percent Purchase'] = mem_pivot['Member'] / mem_pivot['Total']\n",
    "\n",
    "\n",
    "mem_pivot"
   ]
  },
  {
   "cell_type": "markdown",
   "metadata": {},
   "source": [
    "It looks like people who took the fitness test were more likely to purchase a membership **if** they picked up an application.  Why might that be?\n",
    "\n",
    "Just like before, we need to know if this difference is statistically significant.  Choose a hypothesis tests, import it from `scipy` and perform it.  Be sure to note the p-value.\n",
    "Is this result significant?"
   ]
  },
  {
   "cell_type": "code",
   "execution_count": 75,
   "metadata": {},
   "outputs": [
    {
     "name": "stdout",
     "output_type": "stream",
     "text": [
      "The null hypothesis can not be rejected\n"
     ]
    }
   ],
   "source": [
    "from scipy.stats import chi2_contingency\n",
    "\n",
    "contingency_table = [[200, 50], [250, 75]]\n",
    "stat, pval, dof, expected = chi2_contingency(contingency_table)\n",
    "\n",
    "if pval < 0.05:\n",
    "    print('The null hypothesis can be rejected')\n",
    "else:\n",
    "    print('The null hypothesis can not be rejected')"
   ]
  },
  {
   "cell_type": "markdown",
   "metadata": {},
   "source": [
    "Previously, we looked at what percent of people **who picked up applications** purchased memberships.  What we really care about is what percentage of **all visitors** purchased memberships.  Return to `df` and do a `groupby` to find out how many people in `df` are and aren't members from each group.  Follow the same process that we did in Step 4, including pivoting the data.  You should end up with a DataFrame that looks like this:\n",
    "\n",
    "|is_member|ab_test_group|Member|Not Member|Total|Percent Purchase|\n",
    "|-|-|-|-|-|-|\n",
    "|0|A|?|?|?|?|\n",
    "|1|B|?|?|?|?|\n",
    "\n",
    "Save your final DataFrame as `final_member_pivot`."
   ]
  },
  {
   "cell_type": "code",
   "execution_count": 76,
   "metadata": {},
   "outputs": [
    {
     "data": {
      "text/html": [
       "<div>\n",
       "<style scoped>\n",
       "    .dataframe tbody tr th:only-of-type {\n",
       "        vertical-align: middle;\n",
       "    }\n",
       "\n",
       "    .dataframe tbody tr th {\n",
       "        vertical-align: top;\n",
       "    }\n",
       "\n",
       "    .dataframe thead th {\n",
       "        text-align: right;\n",
       "    }\n",
       "</style>\n",
       "<table border=\"1\" class=\"dataframe\">\n",
       "  <thead>\n",
       "    <tr style=\"text-align: right;\">\n",
       "      <th>is_member</th>\n",
       "      <th>ab_test_group</th>\n",
       "      <th>Member</th>\n",
       "      <th>Not Member</th>\n",
       "      <th>Total</th>\n",
       "      <th>Percent Purchase</th>\n",
       "    </tr>\n",
       "  </thead>\n",
       "  <tbody>\n",
       "    <tr>\n",
       "      <th>0</th>\n",
       "      <td>A</td>\n",
       "      <td>200</td>\n",
       "      <td>2304</td>\n",
       "      <td>2504</td>\n",
       "      <td>0.079872</td>\n",
       "    </tr>\n",
       "    <tr>\n",
       "      <th>1</th>\n",
       "      <td>B</td>\n",
       "      <td>250</td>\n",
       "      <td>2250</td>\n",
       "      <td>2500</td>\n",
       "      <td>0.100000</td>\n",
       "    </tr>\n",
       "  </tbody>\n",
       "</table>\n",
       "</div>"
      ],
      "text/plain": [
       "is_member ab_test_group  Member  Not Member  Total  Percent Purchase\n",
       "0                     A     200        2304   2504          0.079872\n",
       "1                     B     250        2250   2500          0.100000"
      ]
     },
     "execution_count": 76,
     "metadata": {},
     "output_type": "execute_result"
    }
   ],
   "source": [
    "final_member_count = df.groupby(['ab_test_group', 'is_member']).first_name.count().reset_index()\n",
    "\n",
    "#pivoting mem_group table\n",
    "final_member_pivot = final_member_count.pivot(index = 'ab_test_group',\n",
    "                             columns = 'is_member',\n",
    "                             values = 'first_name').reset_index()\n",
    "\n",
    "#creating column for total people given the tests\n",
    "final_member_pivot['Total'] = final_member_pivot['Member'] + final_member_pivot['Not Member']\n",
    "\n",
    "#creating column for percent of people who purchased a membership \n",
    "final_member_pivot['Percent Purchase'] = final_member_pivot['Member'] / final_member_pivot['Total']\n",
    "final_member_pivot"
   ]
  },
  {
   "cell_type": "markdown",
   "metadata": {},
   "source": [
    "Previously, when we only considered people who had **already picked up an application**, we saw that there was no significant difference in membership between Group A and Group B.\n",
    "\n",
    "Now, when we consider all people who **visit MuscleHub**, we see that there might be a significant different in memberships between Group A and Group B.  Perform a significance test and check."
   ]
  },
  {
   "cell_type": "code",
   "execution_count": 77,
   "metadata": {},
   "outputs": [
    {
     "name": "stdout",
     "output_type": "stream",
     "text": [
      "The null hypothesis can be rejected\n"
     ]
    }
   ],
   "source": [
    "from scipy.stats import chi2_contingency\n",
    "\n",
    "contingency_table = [[200, 2304], [250, 2250]]\n",
    "stat, pval, dof, expected = chi2_contingency(contingency_table)\n",
    "\n",
    "if pval < 0.05:\n",
    "    print('The null hypothesis can be rejected')\n",
    "else:\n",
    "    print('The null hypothesis can not be rejected')"
   ]
  },
  {
   "cell_type": "markdown",
   "metadata": {},
   "source": [
    "## Step 5: Summarize the acquisition funel with a chart"
   ]
  },
  {
   "cell_type": "markdown",
   "metadata": {},
   "source": [
    "We'd like to make a bar chart for Janet that shows the difference between Group A (people who were given the fitness test) and Group B (people who were not given the fitness test) at each state of the process:\n",
    "- Percent of visitors who apply\n",
    "- Percent of applicants who purchase a membership\n",
    "- Percent of visitors who purchase a membership\n",
    "\n",
    "Create one plot for **each** of the three sets of percentages that you calculated in `app_pivot`, `member_pivot` and `final_member_pivot`.  Each plot should:\n",
    "- Label the two bars as `Fitness Test` and `No Fitness Test`\n",
    "- Make sure that the y-axis ticks are expressed as percents (i.e., `5%`)\n",
    "- Have a title"
   ]
  },
  {
   "cell_type": "code",
   "execution_count": 78,
   "metadata": {},
   "outputs": [
    {
     "data": {
      "image/png": "[encoded data removed]",
      "text/plain": [
       "<Figure size 432x288 with 1 Axes>"
      ]
     },
     "metadata": {
      "needs_background": "light"
     },
     "output_type": "display_data"
    }
   ],
   "source": [
    "ax = plt.subplot()\n",
    "plt.bar(range(len(app_pivot)), app_pivot['Percent with Application'].values)\n",
    "ax.set_xticks(range(len(app_pivot)))\n",
    "ax.set_xticklabels(['Fitness Test', 'No Fitness Test'])\n",
    "ax.set_yticks([0, 0.05, 0.10, 0.15, 0.20])\n",
    "ax.set_yticklabels(['0%', '5%', '10%', '15%', '20%'])\n",
    "plt.show()\n",
    "# plt.savefig('percent_visitors_apply.png')\n",
    "\n"
   ]
  },
  {
   "cell_type": "code",
   "execution_count": 79,
   "metadata": {},
   "outputs": [
    {
     "data": {
      "image/png": "[encoded data removed]",
      "text/plain": [
       "<Figure size 432x288 with 1 Axes>"
      ]
     },
     "metadata": {
      "needs_background": "light"
     },
     "output_type": "display_data"
    }
   ],
   "source": [
    "ax = plt.subplot()\n",
    "\n",
    "plt.bar(range(len(mem_pivot)), mem_pivot['Percent Purchase'].values)\n",
    "ax.set_xticks(range(len(mem_pivot)))\n",
    "ax.set_xticklabels(['Fitness Test', 'No Fitness Test'])\n",
    "ax.set_yticks([0, 0.1, 0.2, 0.3, 0.4, 0.5, 0.6, 0.7, 0.8, 0.9, 1])\n",
    "ax.set_yticklabels(['0%', '10%', '20%', '30%', '40%', '50%', '60%', '70%', '80%', '90%', '100%'])\n",
    "plt.show()\n",
    "# plt.savefig('percent_visitors_purchase.png')"
   ]
  },
  {
   "cell_type": "code",
   "execution_count": 80,
   "metadata": {},
   "outputs": [
    {
     "data": {
      "image/png": "[encoded data removed]",
      "text/plain": [
       "<Figure size 432x288 with 1 Axes>"
      ]
     },
     "metadata": {
      "needs_background": "light"
     },
     "output_type": "display_data"
    }
   ],
   "source": [
    "ax = plt.subplot()\n",
    "plt.bar(range(len(final_member_pivot)), final_member_pivot['Percent Purchase'].values)\n",
    "ax.set_xticks(range(len(final_member_pivot)))\n",
    "ax.set_xticklabels(['Fitness Test', 'No Fitness Test'])\n",
    "ax.set_yticks([0, 0.05, 0.10, 0.15, 0.20])\n",
    "ax.set_yticklabels(['0%', '5%', '10%', '15%', '20%'])\n",
    "plt.show()\n",
    "# plt.savefig('percent_visitors_purchase.png')"
   ]
  }
 ],
 "metadata": {
  "kernelspec": {
   "display_name": "Python 3.9.12 ('base')",
   "language": "python",
   "name": "python3"
  },
  "language_info": {
   "codemirror_mode": {
    "name": "ipython",
    "version": 3
   },
   "file_extension": ".py",
   "mimetype": "text/x-python",
   "name": "python",
   "nbconvert_exporter": "python",
   "pygments_lexer": "ipython3",
   "version": "3.9.12"
  },
  "vscode": {
   "interpreter": {
    "hash": "f1cf197e004e8f37636b420638981175fa4a698b470e91c27185262dc296c8f1"
   }
  }
 },
 "nbformat": 4,
 "nbformat_minor": 2
}
